{
 "cells": [
  {
   "cell_type": "code",
   "execution_count": null,
   "id": "ec7ba673",
   "metadata": {},
   "outputs": [],
   "source": [
    "import pandas as pd\n",
    "from collections import Counter\n",
    "from wordcloud import WordCloud, STOPWORDS\n",
    "import matplotlib.pyplot as plt\n",
    "import numpy as np\n",
    "import ast"
   ]
  },
  {
   "cell_type": "code",
   "execution_count": null,
   "id": "4c689aac",
   "metadata": {},
   "outputs": [],
   "source": [
    "df_usa_ML = pd.read_csv('datasets/linkedin-jobs-usa-ML.csv', na_values = 'Nan')\n",
    "df_cd_ML = pd.read_csv('datasets/linkedin-jobs-canada-ML.csv', na_values = 'Nan')\n",
    "df_af_ML = pd.read_csv('datasets/linkedin-jobs-africa-ML.csv', na_values = 'Nan')"
   ]
  },
  {
   "cell_type": "code",
   "execution_count": null,
   "id": "cf7bcaef",
   "metadata": {},
   "outputs": [],
   "source": [
    "df_usa_ML['country'] = \"usa\"\n",
    "df_cd_ML['country'] = \"canada\"\n",
    "df_af_ML['country'] = \"africa\""
   ]
  },
  {
   "cell_type": "code",
   "execution_count": null,
   "id": "a517411d",
   "metadata": {},
   "outputs": [],
   "source": [
    "df_ML = pd.concat((df_usa_ML, df_cd_ML, df_af_ML), axis  = 0)\n",
    "df_ML"
   ]
  },
  {
   "cell_type": "code",
   "execution_count": null,
   "id": "4885f69f",
   "metadata": {},
   "outputs": [],
   "source": [
    "lst = ['machine learning', 'ml']\n",
    "df_ML['title'] = df_ML['title'].apply(lambda x: 'machine learning' if any(pattern in x.lower() for pattern in lst) else x)"
   ]
  },
  {
   "cell_type": "code",
   "execution_count": null,
   "id": "73a79c6d",
   "metadata": {},
   "outputs": [],
   "source": [
    "df_ML.drop(index = np.where(df_ML['title'] != 'machine learning')[0], inplace = True)"
   ]
  },
  {
   "cell_type": "code",
   "execution_count": null,
   "id": "6bc1b578",
   "metadata": {},
   "outputs": [],
   "source": [
    "df_usa_CV = pd.read_csv('datasets/linkedin-jobs-usa-Computer Vision.csv', na_values = 'Nan')\n",
    "df_cd_CV = pd.read_csv('datasets/linkedin-jobs-canada-Computer Vision.csv', na_values = 'Nan')\n",
    "df_af_CV = pd.read_csv('datasets/linkedin-jobs-africa-Computer Vision.csv', na_values = 'Nan')"
   ]
  },
  {
   "cell_type": "code",
   "execution_count": null,
   "id": "9d2c794a",
   "metadata": {},
   "outputs": [],
   "source": [
    "df_usa_CV['country'] = \"usa\"\n",
    "df_cd_CV['country'] = \"canada\"\n",
    "df_af_CV['country'] = \"africa\""
   ]
  },
  {
   "cell_type": "code",
   "execution_count": null,
   "id": "937d787c",
   "metadata": {},
   "outputs": [],
   "source": [
    "df_CV = pd.concat((df_usa_CV, df_cd_CV, df_af_CV), axis  = 0)\n",
    "df_CV"
   ]
  },
  {
   "cell_type": "code",
   "execution_count": null,
   "id": "ca092d97",
   "metadata": {},
   "outputs": [],
   "source": [
    "lst = ['computer vision', 'cv', 'computer_vision']\n",
    "df_CV['title'] = df_CV['title'].apply(lambda x: 'Computer Vision' if any(pattern in x.lower() for pattern in lst) else x)"
   ]
  },
  {
   "cell_type": "code",
   "execution_count": null,
   "id": "1d7663e1",
   "metadata": {},
   "outputs": [],
   "source": [
    "df_CV.drop(index = np.where(df_CV['title'] != 'Computer Vision')[0], inplace = True)"
   ]
  },
  {
   "cell_type": "code",
   "execution_count": 1,
   "id": "b8fb2a91",
   "metadata": {},
   "outputs": [
    {
     "ename": "NameError",
     "evalue": "name 'pd' is not defined",
     "output_type": "error",
     "traceback": [
      "\u001b[1;31m---------------------------------------------------------------------------\u001b[0m",
      "\u001b[1;31mNameError\u001b[0m                                 Traceback (most recent call last)",
      "Input \u001b[1;32mIn [1]\u001b[0m, in \u001b[0;36m<cell line: 1>\u001b[1;34m()\u001b[0m\n\u001b[1;32m----> 1\u001b[0m df_usa_ds \u001b[38;5;241m=\u001b[39m \u001b[43mpd\u001b[49m\u001b[38;5;241m.\u001b[39mread_csv(\u001b[38;5;124m'\u001b[39m\u001b[38;5;124mdatasets/linkedin-jobs-usa-data scientist.csv\u001b[39m\u001b[38;5;124m'\u001b[39m, na_values \u001b[38;5;241m=\u001b[39m \u001b[38;5;124m'\u001b[39m\u001b[38;5;124mNan\u001b[39m\u001b[38;5;124m'\u001b[39m)\n\u001b[0;32m      2\u001b[0m df_cd_ds \u001b[38;5;241m=\u001b[39m pd\u001b[38;5;241m.\u001b[39mread_csv(\u001b[38;5;124m'\u001b[39m\u001b[38;5;124mdatasets/linkedin-jobs-canda-data scientist.csv\u001b[39m\u001b[38;5;124m'\u001b[39m, na_values \u001b[38;5;241m=\u001b[39m \u001b[38;5;124m'\u001b[39m\u001b[38;5;124mNan\u001b[39m\u001b[38;5;124m'\u001b[39m)\n\u001b[0;32m      3\u001b[0m df_af_ds \u001b[38;5;241m=\u001b[39m pd\u001b[38;5;241m.\u001b[39mread_csv(\u001b[38;5;124m'\u001b[39m\u001b[38;5;124mdatasets/linkedin-jobs-usa-data scientist.csv\u001b[39m\u001b[38;5;124m'\u001b[39m, na_values \u001b[38;5;241m=\u001b[39m \u001b[38;5;124m'\u001b[39m\u001b[38;5;124mNan\u001b[39m\u001b[38;5;124m'\u001b[39m)\n",
      "\u001b[1;31mNameError\u001b[0m: name 'pd' is not defined"
     ]
    }
   ],
   "source": [
    "df_usa_ds = pd.read_csv('datasets/linkedin-jobs-usa-data scientist.csv', na_values = 'Nan')\n",
    "df_cd_ds = pd.read_csv('datasets/linkedin-jobs-canada-data scientist.csv', na_values = 'Nan')\n",
    "df_af_ds = pd.read_csv('datasets/linkedin-jobs-afirca-data scientist.csv', na_values = 'Nan')"
   ]
  },
  {
   "cell_type": "code",
   "execution_count": null,
   "id": "c87c4aeb",
   "metadata": {},
   "outputs": [],
   "source": [
    "df_usa_ds['country'] = \"usa\"\n",
    "df_cd_ds['country'] = \"canada\"\n",
    "df_af_ds['country'] = \"africa\""
   ]
  },
  {
   "cell_type": "code",
   "execution_count": null,
   "id": "0341cd9b",
   "metadata": {},
   "outputs": [],
   "source": [
    "df_ds = pd.concat((df_usa_ds, df_cd_ds, df_af_ds), axis  = 0)\n",
    "df_ds"
   ]
  },
  {
   "cell_type": "code",
   "execution_count": null,
   "id": "191390dc",
   "metadata": {},
   "outputs": [],
   "source": [
    "lst = ['data scientist', 'data_scientist', 'data science', 'scientifique', 'r&d scientist/engineer', 'data analyst/scientist']\n",
    "df_ds['title'] = df_ds['title'].apply(lambda x: 'Data Scientist' if any(pattern in x.lower() for pattern in lst) else x)"
   ]
  },
  {
   "cell_type": "code",
   "execution_count": null,
   "id": "75a76fcc",
   "metadata": {},
   "outputs": [],
   "source": [
    "df_ds.drop(index = np.where(df_ds['title'] != 'Data Scientist')[0], inplace = True)"
   ]
  },
  {
   "cell_type": "code",
   "execution_count": null,
   "id": "111a48e1",
   "metadata": {},
   "outputs": [],
   "source": [
    "df_usa_da = pd.read_csv('datasets/linkedin-jobs-usa-data analysis.csv', na_values = 'Nan')\n",
    "df_cd_da = pd.read_csv('datasets/linkedin-jobs-canada-data analysis.csv', na_values = 'Nan')\n",
    "df_af_da = pd.read_csv('datasets/linkedin-jobs-africa-data analysis.csv', na_values = 'Nan')"
   ]
  },
  {
   "cell_type": "code",
   "execution_count": null,
   "id": "2b57e724",
   "metadata": {},
   "outputs": [],
   "source": [
    "df_usa_da['country'] = \"usa\"\n",
    "df_cd_da['country'] = \"canada\"\n",
    "df_af_da['country'] = \"africa\""
   ]
  },
  {
   "cell_type": "code",
   "execution_count": null,
   "id": "c59d8562",
   "metadata": {},
   "outputs": [],
   "source": [
    "df_da = pd.concat((df_usa_da, df_cd_da, df_af_da), axis  = 0)\n",
    "df_da"
   ]
  },
  {
   "cell_type": "code",
   "execution_count": null,
   "id": "88e8f7ae",
   "metadata": {},
   "outputs": [],
   "source": [
    "lst = ['data analyst', 'data analysis', 'data analyst/scientist']\n",
    "df_da['title'] = df_da['title'].apply(lambda x: 'Data Analyst' if any(pattern in x.lower() for pattern in lst) else x)"
   ]
  },
  {
   "cell_type": "code",
   "execution_count": null,
   "id": "a58fe5aa",
   "metadata": {},
   "outputs": [],
   "source": [
    "df_da.drop(index = np.where(df_da['title'] != 'Data Analyst')[0], inplace = True)"
   ]
  },
  {
   "cell_type": "code",
   "execution_count": null,
   "id": "bd13827d",
   "metadata": {},
   "outputs": [],
   "source": [
    "df_usa_NLP = pd.read_csv('datasets/linkedin-jobs-usa-NLP.csv', na_values = 'Nan')\n",
    "df_cd_NLP = pd.read_csv('datasets/linkedin-jobs-canada-NLP.csv', na_values = 'Nan')\n",
    "df_af_NLP = pd.read_csv('datasets/linkedin-jobs-africa-NLP.csv', na_values = 'Nan')"
   ]
  },
  {
   "cell_type": "code",
   "execution_count": null,
   "id": "e7068554",
   "metadata": {},
   "outputs": [],
   "source": [
    "df_usa_NLP['country'] = \"usa\"\n",
    "df_cd_NLP['country'] = \"canada\"\n",
    "df_af_NLP['country'] = \"africa\""
   ]
  },
  {
   "cell_type": "code",
   "execution_count": null,
   "id": "eba45148",
   "metadata": {},
   "outputs": [],
   "source": [
    "df_NLP = pd.concat((df_usa_NLP, df_cd_NLP, df_af_NLP), axis  = 0)\n",
    "df_NLP"
   ]
  },
  {
   "cell_type": "code",
   "execution_count": null,
   "id": "8256b97b",
   "metadata": {},
   "outputs": [],
   "source": [
    "lst = ['natural language processing', 'nlp']\n",
    "df_NLP['title'] = df_NLP['title'].apply(lambda x: 'Natural Language Processing' if any(pattern in x.lower() for pattern in lst) else x)"
   ]
  },
  {
   "cell_type": "code",
   "execution_count": null,
   "id": "17c5d5d0",
   "metadata": {},
   "outputs": [],
   "source": [
    "df_NLP.drop(index = np.where(df_NLP['title'] != 'Natural Language Processing')[0], inplace = True)"
   ]
  },
  {
   "cell_type": "code",
   "execution_count": null,
   "id": "61c1f89d",
   "metadata": {},
   "outputs": [],
   "source": []
  },
  {
   "cell_type": "code",
   "execution_count": null,
   "id": "4700787b",
   "metadata": {},
   "outputs": [],
   "source": []
  },
  {
   "cell_type": "code",
   "execution_count": null,
   "id": "26989d7e",
   "metadata": {},
   "outputs": [],
   "source": []
  },
  {
   "cell_type": "code",
   "execution_count": null,
   "id": "4a44599e",
   "metadata": {},
   "outputs": [],
   "source": []
  }
 ],
 "metadata": {
  "kernelspec": {
   "display_name": "Python 3 (ipykernel)",
   "language": "python",
   "name": "python3"
  },
  "language_info": {
   "codemirror_mode": {
    "name": "ipython",
    "version": 3
   },
   "file_extension": ".py",
   "mimetype": "text/x-python",
   "name": "python",
   "nbconvert_exporter": "python",
   "pygments_lexer": "ipython3",
   "version": "3.10.3"
  }
 },
 "nbformat": 4,
 "nbformat_minor": 5
}
