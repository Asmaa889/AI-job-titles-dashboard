{
 "cells": [
  {
   "cell_type": "code",
   "execution_count": 1,
   "id": "1a703999",
   "metadata": {},
   "outputs": [
    {
     "ename": "ImportError",
     "evalue": "cannot import name 'artist' from 'matplotlib' (C:\\Users\\asmaa mohammed\\AppData\\Roaming\\Python\\Python310\\site-packages\\matplotlib\\__init__.py)",
     "output_type": "error",
     "traceback": [
      "\u001b[1;31m---------------------------------------------------------------------------\u001b[0m",
      "\u001b[1;31mImportError\u001b[0m                               Traceback (most recent call last)",
      "Input \u001b[1;32mIn [1]\u001b[0m, in \u001b[0;36m<cell line: 11>\u001b[1;34m()\u001b[0m\n\u001b[0;32m      9\u001b[0m \u001b[38;5;28;01mfrom\u001b[39;00m \u001b[38;5;21;01mwordcloud\u001b[39;00m \u001b[38;5;28;01mimport\u001b[39;00m WordCloud, STOPWORDS\n\u001b[0;32m     10\u001b[0m \u001b[38;5;28;01mfrom\u001b[39;00m \u001b[38;5;21;01mPIL\u001b[39;00m \u001b[38;5;28;01mimport\u001b[39;00m Image\n\u001b[1;32m---> 11\u001b[0m \u001b[38;5;28;01mimport\u001b[39;00m \u001b[38;5;21;01mmatplotlib\u001b[39;00m\u001b[38;5;21;01m.\u001b[39;00m\u001b[38;5;21;01mpyplot\u001b[39;00m \u001b[38;5;28;01mas\u001b[39;00m \u001b[38;5;21;01mplt\u001b[39;00m\n\u001b[0;32m     12\u001b[0m \u001b[38;5;28;01mimport\u001b[39;00m \u001b[38;5;21;01mbase64\u001b[39;00m\n\u001b[0;32m     13\u001b[0m \u001b[38;5;28;01mfrom\u001b[39;00m \u001b[38;5;21;01mio\u001b[39;00m \u001b[38;5;28;01mimport\u001b[39;00m BytesIO\n",
      "File \u001b[1;32m~\\AppData\\Roaming\\Python\\Python310\\site-packages\\matplotlib\\pyplot.py:49\u001b[0m, in \u001b[0;36m<module>\u001b[1;34m\u001b[0m\n\u001b[0;32m     47\u001b[0m \u001b[38;5;28;01mfrom\u001b[39;00m \u001b[38;5;21;01mcycler\u001b[39;00m \u001b[38;5;28;01mimport\u001b[39;00m cycler\n\u001b[0;32m     48\u001b[0m \u001b[38;5;28;01mimport\u001b[39;00m \u001b[38;5;21;01mmatplotlib\u001b[39;00m\n\u001b[1;32m---> 49\u001b[0m \u001b[38;5;28;01mimport\u001b[39;00m \u001b[38;5;21;01mmatplotlib\u001b[39;00m\u001b[38;5;21;01m.\u001b[39;00m\u001b[38;5;21;01mcolorbar\u001b[39;00m\n\u001b[0;32m     50\u001b[0m \u001b[38;5;28;01mimport\u001b[39;00m \u001b[38;5;21;01mmatplotlib\u001b[39;00m\u001b[38;5;21;01m.\u001b[39;00m\u001b[38;5;21;01mimage\u001b[39;00m\n\u001b[0;32m     51\u001b[0m \u001b[38;5;28;01mfrom\u001b[39;00m \u001b[38;5;21;01mmatplotlib\u001b[39;00m \u001b[38;5;28;01mimport\u001b[39;00m _api\n",
      "File \u001b[1;32m~\\AppData\\Roaming\\Python\\Python310\\site-packages\\matplotlib\\colorbar.py:21\u001b[0m, in \u001b[0;36m<module>\u001b[1;34m\u001b[0m\n\u001b[0;32m     18\u001b[0m \u001b[38;5;28;01mimport\u001b[39;00m \u001b[38;5;21;01mnumpy\u001b[39;00m \u001b[38;5;28;01mas\u001b[39;00m \u001b[38;5;21;01mnp\u001b[39;00m\n\u001b[0;32m     20\u001b[0m \u001b[38;5;28;01mimport\u001b[39;00m \u001b[38;5;21;01mmatplotlib\u001b[39;00m \u001b[38;5;28;01mas\u001b[39;00m \u001b[38;5;21;01mmpl\u001b[39;00m\n\u001b[1;32m---> 21\u001b[0m \u001b[38;5;28;01mfrom\u001b[39;00m \u001b[38;5;21;01mmatplotlib\u001b[39;00m \u001b[38;5;28;01mimport\u001b[39;00m _api, collections, cm, colors, contour, ticker\n\u001b[0;32m     22\u001b[0m \u001b[38;5;28;01mimport\u001b[39;00m \u001b[38;5;21;01mmatplotlib\u001b[39;00m\u001b[38;5;21;01m.\u001b[39;00m\u001b[38;5;21;01martist\u001b[39;00m \u001b[38;5;28;01mas\u001b[39;00m \u001b[38;5;21;01mmartist\u001b[39;00m\n\u001b[0;32m     23\u001b[0m \u001b[38;5;28;01mimport\u001b[39;00m \u001b[38;5;21;01mmatplotlib\u001b[39;00m\u001b[38;5;21;01m.\u001b[39;00m\u001b[38;5;21;01mpatches\u001b[39;00m \u001b[38;5;28;01mas\u001b[39;00m \u001b[38;5;21;01mmpatches\u001b[39;00m\n",
      "File \u001b[1;32m~\\AppData\\Roaming\\Python\\Python310\\site-packages\\matplotlib\\collections.py:20\u001b[0m, in \u001b[0;36m<module>\u001b[1;34m\u001b[0m\n\u001b[0;32m     17\u001b[0m \u001b[38;5;28;01mimport\u001b[39;00m \u001b[38;5;21;01mnumpy\u001b[39;00m \u001b[38;5;28;01mas\u001b[39;00m \u001b[38;5;21;01mnp\u001b[39;00m\n\u001b[0;32m     19\u001b[0m \u001b[38;5;28;01mimport\u001b[39;00m \u001b[38;5;21;01mmatplotlib\u001b[39;00m \u001b[38;5;28;01mas\u001b[39;00m \u001b[38;5;21;01mmpl\u001b[39;00m\n\u001b[1;32m---> 20\u001b[0m \u001b[38;5;28;01mfrom\u001b[39;00m \u001b[38;5;21;01m.\u001b[39;00m \u001b[38;5;28;01mimport\u001b[39;00m (_api, _path, artist, cbook, cm, colors \u001b[38;5;28;01mas\u001b[39;00m mcolors, docstring,\n\u001b[0;32m     21\u001b[0m                hatch \u001b[38;5;28;01mas\u001b[39;00m mhatch, lines \u001b[38;5;28;01mas\u001b[39;00m mlines, path \u001b[38;5;28;01mas\u001b[39;00m mpath, transforms)\n\u001b[0;32m     22\u001b[0m \u001b[38;5;28;01mfrom\u001b[39;00m \u001b[38;5;21;01m.\u001b[39;00m\u001b[38;5;21;01m_enums\u001b[39;00m \u001b[38;5;28;01mimport\u001b[39;00m JoinStyle, CapStyle\n\u001b[0;32m     25\u001b[0m \u001b[38;5;66;03m# \"color\" is excluded; it is a compound setter, and its docstring differs\u001b[39;00m\n\u001b[0;32m     26\u001b[0m \u001b[38;5;66;03m# in LineCollection.\u001b[39;00m\n",
      "File \u001b[1;32m~\\AppData\\Roaming\\Python\\Python310\\site-packages\\matplotlib\\lines.py:11\u001b[0m, in \u001b[0;36m<module>\u001b[1;34m\u001b[0m\n\u001b[0;32m      8\u001b[0m \u001b[38;5;28;01mimport\u001b[39;00m \u001b[38;5;21;01mnumpy\u001b[39;00m \u001b[38;5;28;01mas\u001b[39;00m \u001b[38;5;21;01mnp\u001b[39;00m\n\u001b[0;32m     10\u001b[0m \u001b[38;5;28;01mimport\u001b[39;00m \u001b[38;5;21;01mmatplotlib\u001b[39;00m \u001b[38;5;28;01mas\u001b[39;00m \u001b[38;5;21;01mmpl\u001b[39;00m\n\u001b[1;32m---> 11\u001b[0m \u001b[38;5;28;01mfrom\u001b[39;00m \u001b[38;5;21;01m.\u001b[39;00m \u001b[38;5;28;01mimport\u001b[39;00m _api, artist, cbook, colors \u001b[38;5;28;01mas\u001b[39;00m mcolors, docstring, rcParams\n\u001b[0;32m     12\u001b[0m \u001b[38;5;28;01mfrom\u001b[39;00m \u001b[38;5;21;01m.\u001b[39;00m\u001b[38;5;21;01martist\u001b[39;00m \u001b[38;5;28;01mimport\u001b[39;00m Artist, allow_rasterization\n\u001b[0;32m     13\u001b[0m \u001b[38;5;28;01mfrom\u001b[39;00m \u001b[38;5;21;01m.\u001b[39;00m\u001b[38;5;21;01mcbook\u001b[39;00m \u001b[38;5;28;01mimport\u001b[39;00m (\n\u001b[0;32m     14\u001b[0m     _to_unmasked_float_array, ls_mapper, ls_mapper_r, STEP_LOOKUP_MAP)\n",
      "\u001b[1;31mImportError\u001b[0m: cannot import name 'artist' from 'matplotlib' (C:\\Users\\asmaa mohammed\\AppData\\Roaming\\Python\\Python310\\site-packages\\matplotlib\\__init__.py)"
     ]
    }
   ],
   "source": [
    "from dash import html, dcc, Dash\n",
    "from jupyter_dash import JupyterDash #instead of app = Dash()\n",
    "import plotly.express as px\n",
    "import numpy as np\n",
    "import dash_bootstrap_components as dbc\n",
    "import pandas as pd\n",
    "import dash_daq as daq\n",
    "from dash.dependencies import Input, Output, State\n",
    "from wordcloud import WordCloud, STOPWORDS\n",
    "from PIL import Image\n",
    "import matplotlib.pyplot as plt\n",
    "import base64\n",
    "from io import BytesIO\n",
    "import plots_needed"
   ]
  },
  {
   "cell_type": "code",
   "execution_count": null,
   "id": "47a35b13",
   "metadata": {
    "scrolled": true
   },
   "outputs": [],
   "source": [
    "df = pd.read_csv(\"Preprocessed_data.csv\")\n",
    "df"
   ]
  },
  {
   "cell_type": "code",
   "execution_count": null,
   "id": "fb63de12",
   "metadata": {
    "scrolled": true
   },
   "outputs": [],
   "source": [
    "df_h = pd.read_csv(\"highest companies.csv\")\n",
    "df_h"
   ]
  },
  {
   "cell_type": "code",
   "execution_count": null,
   "id": "07127554",
   "metadata": {
    "scrolled": true
   },
   "outputs": [],
   "source": [
    "np.unique(df['title'])"
   ]
  },
  {
   "cell_type": "markdown",
   "id": "d2fa5176",
   "metadata": {},
   "source": [
    "# plots"
   ]
  },
  {
   "cell_type": "code",
   "execution_count": null,
   "id": "151c60e7",
   "metadata": {},
   "outputs": [],
   "source": [
    "lst = ['machine learning']"
   ]
  },
  {
   "cell_type": "code",
   "execution_count": null,
   "id": "8e923045",
   "metadata": {},
   "outputs": [],
   "source": [
    "from dash_bootstrap_templates import load_figure_template\n",
    "load_figure_template([\"sketchy\", \"cyborg\", \"minty\", 'slate', 'vapor'])"
   ]
  },
  {
   "cell_type": "code",
   "execution_count": null,
   "id": "1adbe40c",
   "metadata": {},
   "outputs": [],
   "source": [
    "#303030\n",
    "pl_cl = \"#323232\"\n",
    "bg_cl = \"#323232\"\n",
    "pltte = ['deepskyblue', 'powderblue','darkcyan', 'blue', 'grey','royalblue']"
   ]
  },
  {
   "cell_type": "code",
   "execution_count": null,
   "id": "fc346819",
   "metadata": {
    "scrolled": true
   },
   "outputs": [],
   "source": [
    "fig_months = plots_needed.plot_hist(df, x = 'month', range_x = [0,6], n_bins = 10, template=\"cyborg\", \n",
    "                                    color_discrete_sequence=pltte, pl_cl=pl_cl, bg_cl=bg_cl, \n",
    "                                   xaxis_title=\"month\", yaxis_title=\"count\",)\n",
    "fig_months.show()"
   ]
  },
  {
   "cell_type": "code",
   "execution_count": null,
   "id": "30df9860",
   "metadata": {
    "scrolled": false
   },
   "outputs": [],
   "source": [
    "fig_allremote = plots_needed.plot_pie(df, names ='onsite_remote', color = 'onsite_remote', \n",
    "                                      template=\"cyborg\", color_discrete_sequence = pltte, \n",
    "                                      pl_cl = pl_cl, bg_cl = bg_cl, text = 'Total percentage', hole = 0.4)\n",
    "fig_allremote.show()"
   ]
  },
  {
   "cell_type": "code",
   "execution_count": null,
   "id": "1d3b1c2c",
   "metadata": {
    "scrolled": false
   },
   "outputs": [],
   "source": [
    "fig_remot_per_cntry = plots_needed.plot_hist(data = df, x = 'country', color='onsite_remote', template=\"cyborg\", color_discrete_sequence= pltte,\n",
    "                                            pl_cl = pl_cl, bg_cl= bg_cl, xaxis_title=\"country\", yaxis_title=\"onsite_remote count\",)\n",
    "fig_remot_per_cntry.show()"
   ]
  },
  {
   "cell_type": "code",
   "execution_count": null,
   "id": "4b36d31f",
   "metadata": {},
   "outputs": [],
   "source": [
    "fig_sen_onsit = plots_needed.plot_hist(df, x='Seniority level', color='onsite_remote', template=\"cyborg\", color_discrete_sequence= pltte,\n",
    "                                      pl_cl=pl_cl, bg_cl=bg_cl, xaxis_title=\"Seniority level\", yaxis_title=\"onsite_remote count\")\n",
    "fig_sen_onsit.show()"
   ]
  },
  {
   "cell_type": "code",
   "execution_count": null,
   "id": "a1b83f42",
   "metadata": {},
   "outputs": [],
   "source": [
    "fig_emp_onst = plots_needed.plot_hist(df, x='Employment type', color='onsite_remote', template=\"cyborg\", color_discrete_sequence= pltte,\n",
    "                                      pl_cl=pl_cl, bg_cl=bg_cl, xaxis_title='Employment type', yaxis_title=\"onsite_remote count\")\n",
    "fig_emp_onst.show()"
   ]
  },
  {
   "cell_type": "code",
   "execution_count": null,
   "id": "5de79b98",
   "metadata": {
    "scrolled": false
   },
   "outputs": [],
   "source": [
    "fig_emp_sen = plots_needed.plot_hist(df, x='Employment type', color='Seniority level', color_discrete_sequence= pltte,\n",
    "                                     template=\"cyborg\", pl_cl=pl_cl, bg_cl=bg_cl, xaxis_title='Employment type',\n",
    "                                     yaxis_title=\"count\", text =  'Employment Type VS. Seniority level', )\n",
    "fig_emp_sen.show()"
   ]
  },
  {
   "cell_type": "code",
   "execution_count": null,
   "id": "3de43193",
   "metadata": {},
   "outputs": [],
   "source": [
    "gb = df.groupby(['country', 'month']).count()\n",
    "gb = gb.reset_index()"
   ]
  },
  {
   "cell_type": "code",
   "execution_count": null,
   "id": "266aba25",
   "metadata": {},
   "outputs": [],
   "source": [
    "def plt_page1(df1, df2):\n",
    "\n",
    "    fig_tit_coun = plots_needed.plot_hist(data = df1, y=\"title\", color='country', template=\"cyborg\", barmode = 'relative', color_discrete_sequence= pltte,\n",
    "                                            pl_cl = pl_cl, bg_cl= bg_cl, order = 'total descending', xaxis_title=\"count\", yaxis_title=\"job title\", \n",
    "                                          text =  'Total hiring of each job in each country')\n",
    "    \n",
    "\n",
    "    fig_mnth_country = plots_needed.plot_line(data = df2, x='month',y = 'title', color='country', template=\"cyborg\", \n",
    "                                              color_discrete_sequence= pltte, pl_cl = pl_cl, bg_cl= bg_cl, xaxis_title=\"months\", \n",
    "                                              yaxis_title=\"count\", text =  'Hiring in each country per month')\n",
    "    \n",
    "\n",
    "    fig_emp_con = plots_needed.plot_hist(data = df1, x='Employment type', color='country', template=\"cyborg\", \n",
    "                                         color_discrete_sequence= pltte, pl_cl = pl_cl, bg_cl= bg_cl, xaxis_title=\"Employment type\", \n",
    "                                              yaxis_title=\"count\",text = 'Employment type VS. country')\n",
    "    \n",
    "    return fig_mnth_country, fig_tit_coun, fig_emp_con"
   ]
  },
  {
   "cell_type": "code",
   "execution_count": null,
   "id": "94b8245a",
   "metadata": {
    "scrolled": true
   },
   "outputs": [],
   "source": [
    "# alice_mask = np.array(Image.open(\"linkedin.png\"))\n",
    "\n",
    "# df['description'] = df['description'].apply(lambda x: str(x))\n",
    "\n",
    "# stopwords = set(STOPWORDS)\n",
    "# wordcloud = WordCloud(stopwords=stopwords,background_color='lightgray', max_words=100, mask=alice_mask,contour_color='#023075',\n",
    "#                       contour_width=3,colormap='brg_r', width=500, height=500).generate(' '.join(df.description.values[:]))\n",
    "# # create image as cloud\n",
    "# plt.figure()\n",
    "# plt.imshow(wordcloud, interpolation=\"bilinear\")\n",
    "# plt.axis(\"off\")\n",
    "# # store to file\n",
    "# plt.savefig(\"cloud.png\", format=\"png\")\n",
    "# plt.show()"
   ]
  },
  {
   "cell_type": "code",
   "execution_count": null,
   "id": "fa7a541c",
   "metadata": {},
   "outputs": [],
   "source": [
    "with open('cloud6.png', 'rb') as f:\n",
    "    encoded_image = base64.b64encode(f.read()).decode()"
   ]
  },
  {
   "cell_type": "code",
   "execution_count": null,
   "id": "246f7593",
   "metadata": {},
   "outputs": [],
   "source": [
    "st_sq = df[df['title'] == 'machine learning'].shape[0]\n",
    "name = 'machine learning'"
   ]
  },
  {
   "cell_type": "code",
   "execution_count": null,
   "id": "b07dac6c",
   "metadata": {},
   "outputs": [],
   "source": [
    "# wrst_mnth = np.unique(df['month'], return_counts= True)[1][0]\n",
    "wmonth_name = 'January'\n",
    "case2 = 'Worst Month'"
   ]
  },
  {
   "cell_type": "code",
   "execution_count": null,
   "id": "35c7a043",
   "metadata": {},
   "outputs": [],
   "source": [
    "# bst_mnth = np.unique(df['month'], return_counts= True)[1][2]\n",
    "bmonth_name = 'March'\n",
    "case3 = 'Best Month'"
   ]
  },
  {
   "cell_type": "code",
   "execution_count": null,
   "id": "611a8d5d",
   "metadata": {},
   "outputs": [],
   "source": [
    "gb1 = df.groupby(['company']).count()\n",
    "gb1 = gb1.reset_index()\n",
    "gb1 = gb1.sort_values(by= ['title'], ascending= False)\n",
    "comp = gb1['company'].iloc[0]\n",
    "case4 = 'highest hiring company'"
   ]
  },
  {
   "cell_type": "markdown",
   "id": "d142e09b",
   "metadata": {},
   "source": [
    "# APP"
   ]
  },
  {
   "cell_type": "code",
   "execution_count": null,
   "id": "b948fefe",
   "metadata": {},
   "outputs": [],
   "source": [
    "app = JupyterDash(external_stylesheets=[dbc.themes.DARKLY], suppress_callback_exceptions = True)"
   ]
  },
  {
   "cell_type": "code",
   "execution_count": null,
   "id": "5cfb58b3",
   "metadata": {},
   "outputs": [],
   "source": [
    "def create_graph_card(graph, color = pl_cl, wd = 'auto'):\n",
    "    return dbc.Card(\n",
    "      [dbc.CardBody(graph)],\n",
    "      style={\n",
    "        'width': wd,\n",
    "        'background': color,\n",
    "        'margin-top': '15px',\n",
    "        'margin-bottom': '10px',\n",
    "        'border-radius': '30px'\n",
    "      })"
   ]
  },
  {
   "cell_type": "code",
   "execution_count": null,
   "id": "365b9fcb",
   "metadata": {},
   "outputs": [],
   "source": [
    "def squares(text1, text2):\n",
    "    return dbc.Col(create_graph_card(dbc.Alert([html.Strong(text1, style={'font-size': '30px', 'margin': '0', 'display': 'inline', 'color': 'deepskyblue'}),\n",
    "                                html.P(text2, style={'font-size': '18px', 'margin': '1'})], \n",
    "                             color=pl_cl,style = {'text-align': 'center', \"height\": \"90px\"})), width = 3)"
   ]
  },
  {
   "cell_type": "code",
   "execution_count": null,
   "id": "f4dc1ef7",
   "metadata": {
    "scrolled": false
   },
   "outputs": [],
   "source": [
    "fig_emp_con = plots_needed.plot_hist(data = df, x='Employment type', color='country', template=\"cyborg\", \n",
    "                                         color_discrete_sequence= pltte, pl_cl = pl_cl, bg_cl= bg_cl, xaxis_title=\"Employment type\", \n",
    "                                              yaxis_title=\"count\",text = 'Employment type VS. country')\n",
    "fig_emp_con.show()"
   ]
  },
  {
   "cell_type": "code",
   "execution_count": null,
   "id": "37ffa1ab",
   "metadata": {},
   "outputs": [],
   "source": [
    "def page_1():\n",
    "    return html.Div([\n",
    "                        html.Div(children=[\n",
    "\n",
    "                        dbc.Row(\n",
    "                            [\n",
    "                                dbc.Row([dcc.Dropdown(id = 'dropdown', options=[i for i in np.unique(df['country'])], \n",
    "                                                      multi=True, value = ['africa', 'canada', 'usa'], style = {\"margin\": \"20px\", 'width': '960px',\n",
    "                                                                                'backgroundColor': '#191919', 'color': '#258'})])]),\n",
    "                        dbc.Row(\n",
    "                            [\n",
    "                                dbc.Col(html.Div(create_graph_card(dcc.Graph(id = 'fig2', figure= {}, style={'height': '500px'}, ))), \n",
    "                                                    width=12),\n",
    "                            ],\n",
    "                                        style={\"margin\": \"20px\"}\n",
    "                                    ),\n",
    "\n",
    "                        dbc.Row(\n",
    "                            [        \n",
    "                                dbc.Row(\n",
    "                                        [\n",
    "                                            dbc.Col(html.Div(create_graph_card(dcc.Graph(id = 'fig3', figure= {}, style={'height': '400px'}))), width=8),\n",
    "                                            dbc.Col(html.Div(create_graph_card(html.Img(src=f\"data:image/png;base64,{encoded_image}\"), 'lightgray', '410px')), width=4)\n",
    "                                        ],\n",
    "                                    ),\n",
    "                            ],\n",
    "                            style={\"margin\": \"20px\"}\n",
    "                        ),\n",
    "                        dbc.Row(\n",
    "                            [\n",
    "                                dbc.Col(html.Div(create_graph_card(dcc.Graph(id = 'fig1', figure = {}, style={'height': '400px'}))), \n",
    "                                                    width=7),\n",
    "                                dbc.Col(html.Div(create_graph_card(dcc.Graph(figure=fig_months, style={'height': '400px'}))), width=5)\n",
    "                            ],\n",
    "                                        style={\"margin\": \"20px\"}\n",
    "                                    ),\n",
    "                ])])"
   ]
  },
  {
   "cell_type": "code",
   "execution_count": null,
   "id": "94f9d0e6",
   "metadata": {},
   "outputs": [],
   "source": [
    "def page_2():\n",
    "    return html.Div([\n",
    "                dbc.Row([dbc.Col(html.H3(\"Onsite VS. Remote work\"), \n",
    "                                 style = {\"height\": \"30px\", \"color\" : 'white'})]),\n",
    "                dbc.Row(\n",
    "                    [\n",
    "                        dbc.Col([create_graph_card(dcc.Tabs([\n",
    "                            dcc.Tab(label='Work Type in each country', children=[\n",
    "                                dcc.Graph(\n",
    "                                    figure=fig_remot_per_cntry\n",
    "                                )\n",
    "                            ]),\n",
    "                            dcc.Tab(label='Total percentage', children=[\n",
    "                                dcc.Graph(\n",
    "                                    figure=fig_emp_onst\n",
    "                                )\n",
    "                            ]),\n",
    "                            dcc.Tab(label='Work Type for each level of seniority', children=[\n",
    "                                dcc.Graph(\n",
    "                                    figure=fig_sen_onsit\n",
    "                                )\n",
    "                            ]),\n",
    "                        ], colors={\"border\": \"#191919\", \"primary\": pl_cl, \"background\": bg_cl}))], width=8),\n",
    "                        dbc.Col(html.Div(create_graph_card(dcc.Graph(figure=fig_allremote, style={'height': '550px'}))), width=4)     \n",
    "                    ],\n",
    "                    align=\"center\",\n",
    "                    style={\"margin\": \"20px\", 'color': 'white'}\n",
    "                ),\n",
    "    ])"
   ]
  },
  {
   "cell_type": "code",
   "execution_count": null,
   "id": "73e09df0",
   "metadata": {},
   "outputs": [],
   "source": [
    "def page_3():\n",
    "    return html.Div([\n",
    "                        dbc.Row(\n",
    "                            [\n",
    "                                dbc.Row([dcc.Dropdown(id = 'dropdown2', options=[{'label': i, 'value': i} for i in np.unique(df['title'])], \n",
    "                                                      value = 'machine learning', style = {\"margin\": \"20px\", 'width': '960px',\n",
    "                                                                                'backgroundColor': '#191919', 'color': '#111'})])]),\n",
    "                        dbc.Row(\n",
    "                            [\n",
    "                                dbc.Col(html.Div(create_graph_card(dcc.Graph(id = 'fig4', figure= {}, style={'height': '400px'}))), width=12),\n",
    "                            ], style={\"margin\": \"20px\"}),\n",
    "        \n",
    "                        dbc.Row(\n",
    "                            [\n",
    "                                dbc.Col(html.Div(create_graph_card(dcc.Graph(figure=fig_emp_sen))), width=12),\n",
    "                            ], style={\"margin\": \"20px\"}),\n",
    "                    ])"
   ]
  },
  {
   "cell_type": "code",
   "execution_count": null,
   "id": "6193bc82",
   "metadata": {
    "scrolled": true
   },
   "outputs": [],
   "source": [
    "page1 = page_1()\n",
    "page2 = page_2()\n",
    "page3 = page_3()\n",
    "\n",
    "logo = \"/static/images/linkedin.png\"\n",
    "app.layout = html.Div([\n",
    "                        \n",
    "                        dbc.Row([dbc.NavbarSimple(\n",
    "                                    children=[\n",
    "                                        dbc.NavItem(dbc.NavLink(\"Page 1\", href=\"/\")),\n",
    "                                        dbc.NavItem(dbc.NavLink(\"Page 2\", href=\"/page-2\")),\n",
    "                                        dbc.NavItem(dbc.NavLink(\"Page 3\", href=\"/page-3\")),\n",
    "                                    ],\n",
    "                                    brand = html.A([html.Img(src=logo, height=\"50px\", style = {'width' : \"100px\", \"margin\": \"5px\"})],href=\"/\",),\n",
    "                                    color=pl_cl,\n",
    "                                    dark=True,\n",
    "                                    style={'height': '50px', 'a.navbar-brand': {'font-size': '24px'},\n",
    "                                            '.navbar': {'border-radius': '5px'}}, \n",
    "                                ),\n",
    "                                 dbc.Col([dcc.Location(id=\"url\", refresh=False),\n",
    "                                html.Hr(),\n",
    "                                html.Div([\n",
    "                                    dbc.Row([squares(str(st_sq), name), squares(wmonth_name, case2), squares(bmonth_name, case3), \n",
    "                                             squares(comp, case4)], justify=\"start\",style={\"margin\": \"20px\"})]),\n",
    "                                html.Div(id=\"page-content\"),])])], style={'backgroundColor': '#191919'})"
   ]
  },
  {
   "cell_type": "code",
   "execution_count": null,
   "id": "2f6e0282",
   "metadata": {},
   "outputs": [],
   "source": [
    "@app.callback(\n",
    "    Output(\"page-content\", \"children\"),\n",
    "    [Input(\"url\", \"pathname\")],\n",
    ")\n",
    "def render_page_content(pathname):\n",
    "    if pathname == \"/\":\n",
    "        return page1\n",
    "    elif pathname == \"/page-2\":\n",
    "        return page2\n",
    "    elif pathname == \"/page-3\":\n",
    "        return page3\n",
    "    else:\n",
    "        return html.Div(\n",
    "            [\n",
    "                html.H1(\"404: Not found\"),\n",
    "                html.P(f\"The requested URL {pathname} was not found on this server.\"),\n",
    "            ]\n",
    "        )\n"
   ]
  },
  {
   "cell_type": "code",
   "execution_count": null,
   "id": "c9ab554d",
   "metadata": {},
   "outputs": [],
   "source": [
    "@app.callback(\n",
    "    Output(component_id = 'fig1', component_property = 'figure'),\n",
    "    Output(component_id = 'fig2', component_property = 'figure'),\n",
    "    Output(component_id = 'fig3', component_property = 'figure'),\n",
    "    Input(component_id = 'dropdown', component_property = 'value'),\n",
    "    prevent_initial_callback = True)\n",
    "\n",
    "def update_My_frstfig(input_con):\n",
    "    a = df[df['country'].isin(input_con)]\n",
    "    b = gb[gb['country'].isin(input_con)]\n",
    "    return plt_page1(a, b)"
   ]
  },
  {
   "cell_type": "code",
   "execution_count": null,
   "id": "ee44ea79",
   "metadata": {},
   "outputs": [],
   "source": [
    "@app.callback(\n",
    "    Output(component_id = 'fig4', component_property = 'figure'),\n",
    "    Input(component_id = 'dropdown2', component_property = 'value')\n",
    ")\n",
    "\n",
    "def update_My_scndfig(input_tit):\n",
    "    gb2 = df_h[df_h['title'].isin([input_tit])]\n",
    "    fig_titles = plots_needed.plot_hist(data = gb2, y = 'company', x='onsite_remote', color='country', color_discrete_sequence= pltte, \n",
    "                                        pl_cl = pl_cl, bg_cl= bg_cl, xaxis_title=('number of hiring ' + input_tit), barmode = 'relative', \n",
    "                                              yaxis_title=\"top 5 companies in each country\", text = 'top 5 companies in each country VS. jobs')\n",
    "    \n",
    "    return fig_titles"
   ]
  },
  {
   "cell_type": "code",
   "execution_count": null,
   "id": "aa5a9099",
   "metadata": {
    "scrolled": false
   },
   "outputs": [],
   "source": [
    "app.run_server(port=8050)"
   ]
  }
 ],
 "metadata": {
  "kernelspec": {
   "display_name": "Python 3 (ipykernel)",
   "language": "python",
   "name": "python3"
  },
  "language_info": {
   "codemirror_mode": {
    "name": "ipython",
    "version": 3
   },
   "file_extension": ".py",
   "mimetype": "text/x-python",
   "name": "python",
   "nbconvert_exporter": "python",
   "pygments_lexer": "ipython3",
   "version": "3.10.3"
  }
 },
 "nbformat": 4,
 "nbformat_minor": 5
}
